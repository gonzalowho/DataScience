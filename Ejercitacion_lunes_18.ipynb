{
  "nbformat": 4,
  "nbformat_minor": 0,
  "metadata": {
    "colab": {
      "name": "Ejercitacion lunes 18.ipynb",
      "provenance": [],
      "include_colab_link": true
    },
    "kernelspec": {
      "name": "python3",
      "display_name": "Python 3"
    },
    "language_info": {
      "name": "python"
    }
  },
  "cells": [
    {
      "cell_type": "markdown",
      "metadata": {
        "id": "view-in-github",
        "colab_type": "text"
      },
      "source": [
        "<a href=\"https://colab.research.google.com/github/gonzalowho/DataScience/blob/master/Ejercitacion_lunes_18.ipynb\" target=\"_parent\"><img src=\"https://colab.research.google.com/assets/colab-badge.svg\" alt=\"Open In Colab\"/></a>"
      ]
    },
    {
      "cell_type": "markdown",
      "source": [
        "** Ejercitación para el Lunes 18**"
      ],
      "metadata": {
        "id": "3t431Deg7Tq1"
      }
    },
    {
      "cell_type": "code",
      "execution_count": null,
      "metadata": {
        "id": "u3tCbr6a7Ouo"
      },
      "outputs": [],
      "source": [
        "import json\n",
        "from datetime import datetime"
      ]
    },
    {
      "cell_type": "markdown",
      "source": [
        "Crear una función que permita la carga de clientes y los guarde en un archivo (Utilizar manejo de excepciones)\n"
      ],
      "metadata": {
        "id": "YCXQy77I7j3k"
      }
    },
    {
      "cell_type": "code",
      "source": [
        "def carga_cliente():\n",
        "  now = datetime.now()\n",
        "  fecha = now.strftime(\"%d%m%y%H%M%S\")\n",
        "  rsoc = input(\"Ingrese la razón social: \")\n",
        "  cuit = input(\"Ingrese el cuit sin guiones ni puntos: \")\n",
        "  direccion = input(\"Ingrese su dirección: \")\n",
        "  dict_clientes[fecha]={'Razon_social': rsoc , 'Cuit': cuit, 'Direccion': direccion}\n",
        "  return dict_clientes\n",
        "\n",
        "dict_clientes = {}\n",
        "while True: \n",
        "  funciones_varias = input('¿Qué quiere hacer?:\\n A: Agregar cliente /  Salir: Para salir ').title()\n",
        "  if funciones_varias == 'A':\n",
        "    dict_clientes = carga_cliente()\n",
        "  if funciones_varias == 'Salir':\n",
        "    print(\"Muchas gracias, vuelva prontos\")\n",
        "    break    \n",
        "\n",
        "filename = './sample_data/clientes.json'\n",
        "with open(filename, 'a') as f:\n",
        "  json.dump(dict_clientes, f, indent=4)        "
      ],
      "metadata": {
        "colab": {
          "base_uri": "https://localhost:8080/"
        },
        "id": "tx8RFj9W7n7l",
        "outputId": "6fa9e76c-85f6-44bf-8d63-33ee89226530"
      },
      "execution_count": null,
      "outputs": [
        {
          "output_type": "stream",
          "name": "stdout",
          "text": [
            "¿Qué quiere hacer?:\n",
            " A: Agregar cliente /  Salir: Para salir A\n",
            "Ingrese la razón social: Ivana SA\n",
            "Ingrese el cuit sin guiones ni puntos: 27374323879\n",
            "Ingrese su dirección: calle falsa 123\n",
            "¿Qué quiere hacer?:\n",
            " A: Agregar cliente /  Salir: Para salir A\n",
            "Ingrese la razón social: Sarasa SRL\n",
            "Ingrese el cuit sin guiones ni puntos: 123456\n",
            "Ingrese su dirección: P. Sherman calle Wallaby 42, Sydney\n",
            "¿Qué quiere hacer?:\n",
            " A: Agregar cliente /  Salir: Para salir salir\n",
            "Muchas gracias, vuelva prontos\n"
          ]
        }
      ]
    },
    {
      "cell_type": "markdown",
      "source": [
        "Crear una función que permita la carga de pedidos y los guarde en un archivo (Utilizar manejo de excepciones)"
      ],
      "metadata": {
        "id": "auR8VJF47rzz"
      }
    },
    {
      "cell_type": "code",
      "source": [
        "def carga_pedidos():\n",
        "  now = datetime.now()\n",
        "  fecha = now.strftime(\"%d%m%y%H%M%S\")\n",
        "  with open('/content/sample_data/clientes.json', 'r') as f:\n",
        "    data = json.load(f)\n",
        "  listaidClientes = list(data.keys())\n",
        "  print(\"----------Lista IDs Clientes----------\")  \n",
        "  print(listaidClientes)\n",
        "  print(\"--------------------------------------\\n\")\n",
        "  idcliente = input(\"Copie el idCliente deseado: \")\n",
        "  if idcliente in listaidClientes:\n",
        "    producto = input(\"Ingrese el producto: \")\n",
        "    cantidad = input(\"Ingrese la cantidad: \")\n",
        "    dict_pedidos[fecha]={'idCliente': idcliente , 'Producto': producto, 'Cantidad': cantidad}\n",
        "  else:\n",
        "    print(\"Id de cliente inexistente\")\n",
        "      \n",
        "  return dict_pedidos\n",
        "\n",
        "dict_pedidos = {}\n",
        "while True: \n",
        "  funciones_varias = input('¿Qué quiere hacer?:\\n A: Agregar pedido /  Salir: Para salir ').title()\n",
        "  if funciones_varias == 'A':\n",
        "    dict_pedidos = carga_pedidos()\n",
        "  if funciones_varias == 'Salir':\n",
        "    print(\"Muchas gracias, vuelva prontos\")\n",
        "    break    \n",
        "\n",
        "filename = './sample_data/pedidos.json'\n",
        "with open(filename, 'w') as f:\n",
        "  json.dump(dict_pedidos, f, indent=4)          "
      ],
      "metadata": {
        "colab": {
          "base_uri": "https://localhost:8080/"
        },
        "id": "mUYfAbVl7we0",
        "outputId": "63311a3c-3274-4ea5-eede-54a0c055f34c"
      },
      "execution_count": null,
      "outputs": [
        {
          "output_type": "stream",
          "name": "stdout",
          "text": [
            "¿Qué quiere hacer?:\n",
            " A: Agregar pedido /  Salir: Para salir A\n",
            "----------Lista IDs Clientes----------\n",
            "['140422200457', '140422200540']\n",
            "--------------------------------------\n",
            "\n",
            "Copie el idCliente deseado: 140422200457\n",
            "Ingrese el producto: Chocolate\n",
            "Ingrese la cantidad: 10kg\n",
            "¿Qué quiere hacer?:\n",
            " A: Agregar pedido /  Salir: Para salir salir\n",
            "Muchas gracias, vuelva prontos\n"
          ]
        }
      ]
    },
    {
      "cell_type": "markdown",
      "source": [
        "Crear una función que imprima por pantalla el listado de clientes."
      ],
      "metadata": {
        "id": "RV3u3CKW700l"
      }
    },
    {
      "cell_type": "code",
      "source": [
        "def leer_clientes():\n",
        "  with open('/content/sample_data/clientes.json', 'r') as f:\n",
        "    data = json.load(f)\n",
        "  print(data)  "
      ],
      "metadata": {
        "id": "8kWAf1el73y1"
      },
      "execution_count": null,
      "outputs": []
    },
    {
      "cell_type": "markdown",
      "source": [
        "Crear una función que imprima por pantalla el listado de pedidos."
      ],
      "metadata": {
        "id": "9aREALVV78r8"
      }
    },
    {
      "cell_type": "code",
      "source": [
        "def leer_pedidos():\n",
        "  with open('/content/sample_data/pedidos.json', 'r') as f:\n",
        "    data = json.load(f)\n",
        "  print(data) "
      ],
      "metadata": {
        "id": "wvyTWvIE8BOc"
      },
      "execution_count": null,
      "outputs": []
    },
    {
      "cell_type": "code",
      "source": [
        "leer_clientes()\n",
        "print(\"------------\")\n",
        "leer_pedidos()"
      ],
      "metadata": {
        "colab": {
          "base_uri": "https://localhost:8080/"
        },
        "id": "e0hJT2DL8K7c",
        "outputId": "c7370304-7e03-4d0f-d507-fc0daa41686f"
      },
      "execution_count": null,
      "outputs": [
        {
          "output_type": "stream",
          "name": "stdout",
          "text": [
            "{'140422200457': {'Razon_social': 'Ivana SA', 'Cuit': '27374323879', 'Direccion': 'calle falsa 123'}, '140422200540': {'Razon_social': 'Sarasa SRL', 'Cuit': '123456', 'Direccion': 'P. Sherman calle Wallaby 42, Sydney'}}\n",
            "------------\n",
            "{'140422201906': {'idCliente': '140422200457', 'Producto': 'Chocolate', 'Cantidad': '10kg'}}\n"
          ]
        }
      ]
    },
    {
      "cell_type": "markdown",
      "source": [
        "[BONUS] Crear una función que le pase el id or razón social de un cliente y me liste todos los pedidos realizados."
      ],
      "metadata": {
        "id": "MsBPXR8U8SAU"
      }
    },
    {
      "cell_type": "code",
      "source": [
        "#Versión con validación del cuit\n",
        "\n",
        "import json\n",
        "from datetime import datetime\n",
        "\n",
        "#Se define path de file clientes.json\n",
        "filename = './sample_data/clientes.json'\n",
        "\n",
        "#Función que carga clientes existentes en un diccionario y se que exista el archivo. Requiere parámetro filname con la ruta del archivo clientes.\n",
        "def cargar_clientes_existentes(filename):\n",
        "  lista_old_cli={}\n",
        "  try:\n",
        "    with open(filename, 'r') as f:\n",
        "      clientes_json = json.load(f)\n",
        "      lista_old_cli = clientes_json\n",
        "  except IOError:\n",
        "    print(\"El archivo no existe. Se creara uno nuevo\")\n",
        "  return lista_old_cli\n",
        "\n",
        "#Función que guarda los clientes el archivo. Se sobrescribe con el diccionario que contiene los clientes existentes anteriormente más el cargado en la transacción actual.\n",
        "def guardar_clientes(lista_clientes, filename):\n",
        "  with open(filename, 'w') as f:\n",
        "    json.dump(lista_clientes, f, indent=4) \n",
        "  return\n",
        "\n",
        "#Funcion que valida cuit ya existentes.\n",
        "#\n",
        "def validar_cliente(cuit, clientes_existentes):\n",
        "    cuits = [] #creo lista vacía y se agregan todos los cuits\n",
        "    for key, value in clientes_existentes.items():\n",
        "      cuits.append(value.get(\"Cuit\"))\n",
        "    if cuit in cuits: #se valida si el cuit ingreado existe en la lista\n",
        "        cuit = validar_cliente(input(\"Ya existe el Cuit. Intente nuevamente: \"),clientes_existentes) #Se llama al a misma función recursivamente hasta que se ingrese un cuit que no exista.\n",
        "\n",
        "    return cuit    \n",
        "        \n",
        "\n",
        "def carga_cliente(filename):\n",
        "\n",
        "  clientes_existentes = cargar_clientes_existentes(filename)\n",
        "  dict_clientes = {}\n",
        "  now = datetime.now()\n",
        "  fecha = now.strftime(\"%d%m%y%H%M%S\")\n",
        "  rsoc = input(\"Ingrese la razón social: \")\n",
        "  #cuit = input(\"Ingrese el cuit sin guiones ni puntos: \")\n",
        "  cuit = validar_cliente(input(\"cuit :\"), clientes_existentes) #Se modifica para utilizar la función validar_cliente que toma como parámetro el input de cuit de consola y diccionario de clientes existentes.\n",
        "  direccion = input(\"Ingrese su dirección: \")\n",
        "  dict_clientes[fecha]={'Razon_social': rsoc , 'Cuit': cuit, 'Direccion': direccion}\n",
        "  \n",
        "  for k, v in dict_clientes.items():\n",
        "    clientes_existentes[k] = v\n",
        "  return clientes_existentes\n",
        "\n",
        "\n",
        "while True: \n",
        "  funciones_varias = input('¿Qué quiere hacer?:\\n A: Agregar cliente /  Salir: Para salir ').title()\n",
        "  if funciones_varias == 'A':\n",
        "    dict_clientes = carga_cliente(filename)\n",
        "    guardar_clientes(dict_clientes,filename)\n",
        "\n",
        "\n",
        "  if funciones_varias == 'Salir':\n",
        "    print(\"Muchas gracias, vuelva prontos\")\n",
        "\n",
        "    break    \n",
        "\n"
      ],
      "metadata": {
        "id": "9psmNA_THeIb",
        "outputId": "0ccf4505-03b7-48f6-e279-6958500bb852",
        "colab": {
          "base_uri": "https://localhost:8080/"
        }
      },
      "execution_count": 2,
      "outputs": [
        {
          "output_type": "stream",
          "name": "stdout",
          "text": [
            "¿Qué quiere hacer?:\n",
            " A: Agregar cliente /  Salir: Para salir A\n",
            "Ingrese la razón social: aaa\n",
            "cuit :111\n",
            "Ya existe el Cuit. Intente nuevamente: 222\n",
            "Ya existe el Cuit. Intente nuevamente: 333\n",
            "Ingrese su dirección: a\n",
            "¿Qué quiere hacer?:\n",
            " A: Agregar cliente /  Salir: Para salir A\n",
            "Ingrese la razón social: sss\n",
            "cuit :333\n",
            "Ya existe el Cuit. Intente nuevamente: 111\n",
            "Ya existe el Cuit. Intente nuevamente: 222\n",
            "Ya existe el Cuit. Intente nuevamente: 444\n",
            "Ingrese su dirección: asdf\n",
            "¿Qué quiere hacer?:\n",
            " A: Agregar cliente /  Salir: Para salir Salir\n",
            "Muchas gracias, vuelva prontos\n"
          ]
        }
      ]
    }
  ]
}