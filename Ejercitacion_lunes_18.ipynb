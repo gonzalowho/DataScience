{
  "nbformat": 4,
  "nbformat_minor": 0,
  "metadata": {
    "colab": {
      "name": "Ejercitacion lunes 18.ipynb",
      "provenance": [],
      "include_colab_link": true
    },
    "kernelspec": {
      "name": "python3",
      "display_name": "Python 3"
    },
    "language_info": {
      "name": "python"
    }
  },
  "cells": [
    {
      "cell_type": "markdown",
      "metadata": {
        "id": "view-in-github",
        "colab_type": "text"
      },
      "source": [
        "<a href=\"https://colab.research.google.com/github/gonzalowho/DataScience/blob/master/Ejercitacion_lunes_18.ipynb\" target=\"_parent\"><img src=\"https://colab.research.google.com/assets/colab-badge.svg\" alt=\"Open In Colab\"/></a>"
      ]
    },
    {
      "cell_type": "markdown",
      "source": [
        "** Ejercitación para el Lunes 18**"
      ],
      "metadata": {
        "id": "3t431Deg7Tq1"
      }
    },
    {
      "cell_type": "code",
      "execution_count": null,
      "metadata": {
        "id": "u3tCbr6a7Ouo"
      },
      "outputs": [],
      "source": [
        "import json\n",
        "from datetime import datetime"
      ]
    },
    {
      "cell_type": "markdown",
      "source": [
        "Crear una función que permita la carga de clientes y los guarde en un archivo (Utilizar manejo de excepciones)\n"
      ],
      "metadata": {
        "id": "YCXQy77I7j3k"
      }
    },
    {
      "cell_type": "code",
      "source": [
        "def carga_cliente():\n",
        "  now = datetime.now()\n",
        "  fecha = now.strftime(\"%d%m%y%H%M%S\")\n",
        "  rsoc = input(\"Ingrese la razón social: \")\n",
        "  cuit = input(\"Ingrese el cuit sin guiones ni puntos: \")\n",
        "  direccion = input(\"Ingrese su dirección: \")\n",
        "  dict_clientes[fecha]={'Razon_social': rsoc , 'Cuit': cuit, 'Direccion': direccion}\n",
        "  return dict_clientes\n",
        "\n",
        "dict_clientes = {}\n",
        "while True: \n",
        "  funciones_varias = input('¿Qué quiere hacer?:\\n A: Agregar cliente /  Salir: Para salir ').title()\n",
        "  if funciones_varias == 'A':\n",
        "    dict_clientes = carga_cliente()\n",
        "  if funciones_varias == 'Salir':\n",
        "    print(\"Muchas gracias, vuelva prontos\")\n",
        "    break    \n",
        "\n",
        "filename = './sample_data/clientes.json'\n",
        "with open(filename, 'a') as f:\n",
        "  json.dump(dict_clientes, f, indent=4)        "
      ],
      "metadata": {
        "colab": {
          "base_uri": "https://localhost:8080/"
        },
        "id": "tx8RFj9W7n7l",
        "outputId": "6fa9e76c-85f6-44bf-8d63-33ee89226530"
      },
      "execution_count": null,
      "outputs": [
        {
          "output_type": "stream",
          "name": "stdout",
          "text": [
            "¿Qué quiere hacer?:\n",
            " A: Agregar cliente /  Salir: Para salir A\n",
            "Ingrese la razón social: Ivana SA\n",
            "Ingrese el cuit sin guiones ni puntos: 27374323879\n",
            "Ingrese su dirección: calle falsa 123\n",
            "¿Qué quiere hacer?:\n",
            " A: Agregar cliente /  Salir: Para salir A\n",
            "Ingrese la razón social: Sarasa SRL\n",
            "Ingrese el cuit sin guiones ni puntos: 123456\n",
            "Ingrese su dirección: P. Sherman calle Wallaby 42, Sydney\n",
            "¿Qué quiere hacer?:\n",
            " A: Agregar cliente /  Salir: Para salir salir\n",
            "Muchas gracias, vuelva prontos\n"
          ]
        }
      ]
    },
    {
      "cell_type": "markdown",
      "source": [
        "Crear una función que permita la carga de pedidos y los guarde en un archivo (Utilizar manejo de excepciones)"
      ],
      "metadata": {
        "id": "auR8VJF47rzz"
      }
    },
    {
      "cell_type": "code",
      "source": [
        "def cargar_pedidos_existentes(filename):\n",
        "  lista_old_pedidos={}\n",
        "  try:\n",
        "    with open(filename, 'r') as f:\n",
        "      pedidos_json = json.load(f)\n",
        "      lista_old_pedidos = pedidos_json\n",
        "  except IOError:\n",
        "    print(\"El archivo no existe. Se creara uno nuevo\")\n",
        "  return lista_old_pedidos\n",
        "\n",
        "def carga_pedidos(filename):\n",
        "  pedidos_existentes = cargar_pedidos_existentes(filename)\n",
        "  dict_pedidos={}\n",
        "  now = datetime.now()\n",
        "  fecha = now.strftime(\"%d%m%y%H%M%S\")\n",
        "  with open('/content/sample_data/clientes.json', 'r') as f:\n",
        "    data = json.load(f)\n",
        "  listaidClientes = list(data.keys())\n",
        "  print(\"----------Lista IDs Clientes----------\") \n",
        "  for i in  listaidClientes:\n",
        "     print(i)\n",
        "  print(\"--------------------------------------\\n\")\n",
        "  idcliente = input(\"Copie el idCliente deseado: \")\n",
        "  if idcliente in listaidClientes:\n",
        "    producto = input(\"Ingrese el producto: \")\n",
        "    cantidad = input(\"Ingrese la cantidad: \")\n",
        "    dict_pedidos[fecha]={'idCliente': idcliente , 'Producto': producto, 'Cantidad': cantidad}\n",
        "  else:\n",
        "    print(\"Id de cliente inexistente\")\n",
        "  for k, v in dict_pedidos.items():\n",
        "    pedidos_existentes[k] = v\n",
        "  print(pedidos_existentes)\n",
        "  return pedidos_existentes\n",
        "      \n",
        "\n",
        "def cargar_pedidos_main(filename):\n",
        "  while True: \n",
        "    funciones_varias = input('¿Qué quiere hacer?:\\n A: Agregar pedido /  Salir: Para salir ').title()\n",
        "    if funciones_varias == 'A':\n",
        "      dict_pedidos = carga_pedidos(filename)\n",
        "    if funciones_varias == 'Salir':\n",
        "      print(\"Muchas gracias, vuelva prontos\")\n",
        "      break    \n",
        "\n",
        "    with open(filename, 'w') as f:\n",
        "      json.dump(dict_pedidos, f, indent=4)      \n",
        "  return    "
      ],
      "metadata": {
        "id": "mUYfAbVl7we0"
      },
      "execution_count": 56,
      "outputs": []
    },
    {
      "cell_type": "markdown",
      "source": [
        "Crear una función que imprima por pantalla el listado de clientes."
      ],
      "metadata": {
        "id": "RV3u3CKW700l"
      }
    },
    {
      "cell_type": "code",
      "source": [
        "def leer_clientes():\n",
        "  data={}\n",
        "  try:\n",
        "    with open('/content/sample_data/clientes.json', 'r') as f:\n",
        "      data = json.load(f)\n",
        "    print(data)\n",
        "  except IOError:\n",
        "    print(\"no existe el archivo clientes\")\n",
        "  return data\n"
      ],
      "metadata": {
        "id": "8kWAf1el73y1"
      },
      "execution_count": 12,
      "outputs": []
    },
    {
      "cell_type": "markdown",
      "source": [
        "Crear una función que imprima por pantalla el listado de pedidos."
      ],
      "metadata": {
        "id": "9aREALVV78r8"
      }
    },
    {
      "cell_type": "markdown",
      "source": [
        "[BONUS] Crear una función que le pase el id or razón social de un cliente y me liste todos los pedidos realizados."
      ],
      "metadata": {
        "id": "MsBPXR8U8SAU"
      }
    },
    {
      "cell_type": "code",
      "source": [
        "#Versión con validación del cuit\n",
        "\n",
        "import json\n",
        "from datetime import datetime\n",
        "\n",
        "\n",
        "#Función que carga clientes existentes en un diccionario y se que exista el archivo. Requiere parámetro filname con la ruta del archivo clientes.\n",
        "def cargar_clientes_existentes(filename):\n",
        "  lista_old_cli={}\n",
        "  try:\n",
        "    with open(filename, 'r') as f:\n",
        "      clientes_json = json.load(f)\n",
        "      lista_old_cli = clientes_json\n",
        "  except IOError:\n",
        "    print(\"El archivo no existe. Se creara uno nuevo\")\n",
        "  return lista_old_cli\n",
        "\n",
        "#Función que guarda los clientes el archivo. Se sobrescribe con el diccionario que contiene los clientes existentes anteriormente más el cargado en la transacción actual.\n",
        "def guardar_clientes(lista_clientes, filename):\n",
        "  with open(filename, 'w') as f:\n",
        "    json.dump(lista_clientes, f, indent=4) \n",
        "  return\n",
        "\n",
        "#Funcion que valida cuit ya existentes.\n",
        "#\n",
        "def validar_cliente(cuit, clientes_existentes):\n",
        "    cuits = [] #creo lista vacía y se agregan todos los cuits\n",
        "    for key, value in clientes_existentes.items():\n",
        "      cuits.append(value.get(\"Cuit\"))\n",
        "    if cuit in cuits: #se valida si el cuit ingreado existe en la lista\n",
        "        cuit = validar_cliente(input(\"Ya existe el Cuit. Intente nuevamente: \"),clientes_existentes) #Se llama al a misma función recursivamente hasta que se ingrese un cuit que no exista.\n",
        "\n",
        "    return cuit    \n",
        "        \n",
        "\n",
        "def carga_cliente(filename):\n",
        "\n",
        "  clientes_existentes = cargar_clientes_existentes(filename)\n",
        "  dict_clientes = {}\n",
        "  now = datetime.now()\n",
        "  fecha = now.strftime(\"%d%m%y%H%M%S\")\n",
        "  rsoc = input(\"Ingrese la razón social: \")\n",
        "  #cuit = input(\"Ingrese el cuit sin guiones ni puntos: \")\n",
        "  cuit = validar_cliente(input(\"cuit :\"), clientes_existentes) #Se modifica para utilizar la función validar_cliente que toma como parámetro el input de cuit de consola y diccionario de clientes existentes.\n",
        "  direccion = input(\"Ingrese su dirección: \")\n",
        "  dict_clientes[fecha]={'Razon_social': rsoc , 'Cuit': cuit, 'Direccion': direccion}\n",
        "  \n",
        "  for k, v in dict_clientes.items():\n",
        "    clientes_existentes[k] = v\n",
        "  return clientes_existentes\n",
        "\n",
        "def carga_cliente_main():\n",
        "  while True: \n",
        "    funciones_varias = input('¿Qué quiere hacer?:\\n A: Agregar cliente /  Salir: Para salir ').title()\n",
        "    if funciones_varias == 'A':\n",
        "      dict_clientes = carga_cliente(filename)\n",
        "      guardar_clientes(dict_clientes,filename)\n",
        "\n",
        "\n",
        "    if funciones_varias == 'Salir':\n",
        "      print(\"Muchas gracias, vuelva prontos\")\n",
        "\n",
        "      break    \n",
        "\n",
        "\n"
      ],
      "metadata": {
        "id": "9psmNA_THeIb"
      },
      "execution_count": 57,
      "outputs": []
    },
    {
      "cell_type": "code",
      "source": [
        "def leer_clientes(filename):\n",
        "  data={}\n",
        "  try:\n",
        "    with open(filename, 'r') as f:\n",
        "      data = json.load(f)\n",
        "      for key, values in data.items():\n",
        "        print(f\"Cliente id: {key}\" )\n",
        "        for k in values: \n",
        "          print(k + \":\" , values[k]) \n",
        "  except IOError:\n",
        "    print(\"no existe el archivo\")\n"
      ],
      "metadata": {
        "id": "FvtcB2hMNfTJ"
      },
      "execution_count": 39,
      "outputs": []
    },
    {
      "cell_type": "code",
      "source": [
        "def leer_pedidos(filename):\n",
        "  try:\n",
        "    with open(filename, 'r') as f:\n",
        "      data = json.load(f)\n",
        "      for key, values in data.items():\n",
        "        print(f\"Cliente id: {key}\" )\n",
        "        for k in values: \n",
        "          print(k + \":\" , values[k]) \n",
        "  except IOError:\n",
        "    print(\"no existe el archivo\")\n",
        "  \n",
        "leer_pedidos(filename_pedidos)"
      ],
      "metadata": {
        "id": "jbq-UXWNNYU9",
        "outputId": "cf352a65-959b-489a-b523-74f02883a86e",
        "colab": {
          "base_uri": "https://localhost:8080/"
        }
      },
      "execution_count": 52,
      "outputs": [
        {
          "output_type": "stream",
          "name": "stdout",
          "text": [
            "Cliente id: 170422000735\n",
            "idCliente: 160422230727\n",
            "Producto: 2\n",
            "Cantidad: 2\n",
            "Cliente id: 170422000802\n",
            "idCliente: 160422230712\n",
            "Producto: 3\n",
            "Cantidad: 3\n"
          ]
        }
      ]
    },
    {
      "cell_type": "code",
      "source": [
        "def realizar_operaciones(a):\n",
        "    while a==0 or a>5:\n",
        "        a= int(input(\"Ingrese un valor de menú válido:\"))\n",
        "    if a == 1:\n",
        "        carga_cliente_main()\n",
        "    elif a == 2:\n",
        "        cargar_pedidos_main(filename_pedidos)\n",
        "    elif a == 3:\n",
        "        leer_clientes(filename)\n",
        "    elif a == 4:\n",
        "        leer_pedidos(filename_pedidos)\n",
        "    else:\n",
        "        print(\"Ver cliente\")\n",
        "\n",
        "\n",
        "#Se define path de file pedidos.json\n",
        "filename_pedidos ='/content/sample_data/pedidos.json'\n",
        "#Se define path de file clientes.json\n",
        "filename = './sample_data/clientes.json'\n",
        "\n",
        "\n",
        "operacion= int(input(\"MENU  \\n 1)Cargar Cliente \\n 2)Cargar pedido \\n 3)Ver listado clientes \\n 4)Ver listado pedidos \\n 5)Ver cliente \\n \\nElija las siguiente operacion que quiere realizar:\"))\n",
        "realizar_operaciones(operacion)\n"
      ],
      "metadata": {
        "id": "pPxDZE6yNVY-",
        "outputId": "3f6b4128-2cc3-430c-9039-986ed14b60ed",
        "colab": {
          "base_uri": "https://localhost:8080/"
        }
      },
      "execution_count": 61,
      "outputs": [
        {
          "output_type": "stream",
          "name": "stdout",
          "text": [
            "MENU  \n",
            " 1)Cargar Cliente \n",
            " 2)Cargar pedido \n",
            " 3)Ver listado clientes \n",
            " 4)Ver listado pedidos \n",
            " 5)Ver cliente \n",
            " \n",
            "Elija las siguiente operacion que quiere realizar:4\n",
            "Cliente id: 170422001538\n",
            "idCliente: 160422230712\n",
            "Producto: 1\n",
            "Cantidad: 1\n",
            "Cliente id: 170422001548\n",
            "idCliente: 160422230712\n",
            "Producto: 2\n",
            "Cantidad: 2\n"
          ]
        }
      ]
    },
    {
      "cell_type": "code",
      "source": [
        ""
      ],
      "metadata": {
        "id": "rc6bTmVBkouX"
      },
      "execution_count": null,
      "outputs": []
    }
  ]
}