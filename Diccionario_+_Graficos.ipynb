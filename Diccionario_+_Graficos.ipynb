{
  "nbformat": 4,
  "nbformat_minor": 0,
  "metadata": {
    "colab": {
      "name": "Diccionario + Graficos.ipynb",
      "provenance": [],
      "include_colab_link": true
    },
    "kernelspec": {
      "name": "python3",
      "display_name": "Python 3"
    },
    "language_info": {
      "name": "python"
    }
  },
  "cells": [
    {
      "cell_type": "markdown",
      "metadata": {
        "id": "view-in-github",
        "colab_type": "text"
      },
      "source": [
        "<a href=\"https://colab.research.google.com/github/gonzalowho/DataScience/blob/master/Diccionario_%2B_Graficos.ipynb\" target=\"_parent\"><img src=\"https://colab.research.google.com/assets/colab-badge.svg\" alt=\"Open In Colab\"/></a>"
      ]
    },
    {
      "cell_type": "markdown",
      "source": [
        "** Ejercitación para el Lunes 18**"
      ],
      "metadata": {
        "id": "3t431Deg7Tq1"
      }
    },
    {
      "cell_type": "code",
      "execution_count": 2,
      "metadata": {
        "id": "u3tCbr6a7Ouo"
      },
      "outputs": [],
      "source": [
        "import json\n",
        "from datetime import datetime"
      ]
    },
    {
      "cell_type": "markdown",
      "source": [
        "Crear una función que permita la carga de pedidos y los guarde en un archivo (Utilizar manejo de excepciones)"
      ],
      "metadata": {
        "id": "auR8VJF47rzz"
      }
    },
    {
      "cell_type": "code",
      "source": [
        "def cargar_pedidos_existentes(filename):\n",
        "  lista_old_pedidos={}\n",
        "  try:\n",
        "    with open(filename, 'r') as f:\n",
        "      pedidos_json = json.load(f)\n",
        "      lista_old_pedidos = pedidos_json\n",
        "  except IOError:\n",
        "    print(\"El archivo no existe. Se creara uno nuevo\")\n",
        "  return lista_old_pedidos\n",
        "\n",
        "def carga_pedidos(filename_pedidos, filename_clientes):\n",
        "  pedidos_existentes = cargar_pedidos_existentes(filename_pedidos)\n",
        "  dict_pedidos={}\n",
        "  id = CreateId(filename_pedidos)\n",
        "  with open(filename_clientes, 'r') as f:\n",
        "    data = json.load(f)\n",
        "  listaidClientes = list(data.keys())\n",
        "  print(\"----------Lista IDs Clientes----------\") \n",
        "  for i in  listaidClientes:\n",
        "     print(i)\n",
        "  print(\"--------------------------------------\\n\")\n",
        "  idcliente = input(\"Copie el idCliente deseado: \")\n",
        "  if idcliente in listaidClientes:\n",
        "    producto = input(\"Ingrese el producto: \")\n",
        "    cantidad = input(\"Ingrese la cantidad: \")\n",
        "    dict_pedidos[id]={'idCliente': idcliente , 'Producto': producto, 'Cantidad': cantidad}\n",
        "  else:\n",
        "    print(\"Id de cliente inexistente\")\n",
        "  for k, v in dict_pedidos.items():\n",
        "    pedidos_existentes[k] = v\n",
        "  #print(pedidos_existentes)\n",
        "  return pedidos_existentes\n",
        "      \n",
        "\n",
        "def cargar_pedidos_main(filename_pedidos,filename_clientes):\n",
        "  while True: \n",
        "    funciones_varias = input('¿Qué quiere hacer?:\\n A: Agregar pedido /  Salir: Para salir ').title()\n",
        "    if funciones_varias == 'A':\n",
        "      dict_pedidos = carga_pedidos(filename_pedidos,filename_clientes)\n",
        "    if funciones_varias == 'Salir':\n",
        "      print(\"Muchas gracias, vuelva prontos\")\n",
        "      break    \n",
        "\n",
        "    with open(filename_pedidos, 'w') as f:\n",
        "      json.dump(dict_pedidos, f, indent=4)      \n",
        "  return    "
      ],
      "metadata": {
        "id": "mUYfAbVl7we0"
      },
      "execution_count": 3,
      "outputs": []
    },
    {
      "cell_type": "markdown",
      "source": [
        "Crear una función que imprima por pantalla el listado de clientes."
      ],
      "metadata": {
        "id": "RV3u3CKW700l"
      }
    },
    {
      "cell_type": "code",
      "source": [
        "def leer_clientes():\n",
        "  data={}\n",
        "  try:\n",
        "    with open('/content/sample_data/clientes.json', 'r') as f:\n",
        "      data = json.load(f)\n",
        "    print(data)\n",
        "  except IOError:\n",
        "    print(\"no existe el archivo clientes\")\n",
        "  return data\n"
      ],
      "metadata": {
        "id": "8kWAf1el73y1"
      },
      "execution_count": 4,
      "outputs": []
    },
    {
      "cell_type": "code",
      "source": [
        "#Versión con validación del cuit\n",
        "\n",
        "#import json\n",
        "#from datetime import datetime\n",
        "\n",
        "\n",
        "#Función que carga clientes existentes en un diccionario y se que exista el archivo. Requiere parámetro filname con la ruta del archivo clientes.\n",
        "def cargar_clientes_existentes(filename):\n",
        "  lista_old_cli={}\n",
        "  try:\n",
        "    with open(filename, 'r') as f:\n",
        "      clientes_json = json.load(f)\n",
        "      lista_old_cli = clientes_json\n",
        "  except IOError:\n",
        "    print(\"El archivo no existe. Se creara uno nuevo\")\n",
        "  return lista_old_cli\n",
        "\n",
        "#Función que guarda los clientes el archivo. Se sobrescribe con el diccionario que contiene los clientes existentes anteriormente más el cargado en la transacción actual.\n",
        "def guardar_clientes(lista_clientes, filename):\n",
        "  with open(filename, 'w') as f:\n",
        "    json.dump(lista_clientes, f, indent=4) \n",
        "  return\n",
        "\n",
        "#Funcion que valida cuit ya existentes.\n",
        "#\n",
        "def validar_cliente(cuit, clientes_existentes):\n",
        "    cuits = [] #creo lista vacía y se agregan todos los cuits\n",
        "    for key, value in clientes_existentes.items():\n",
        "      cuits.append(value.get(\"Cuit\"))\n",
        "    if cuit in cuits: #se valida si el cuit ingreado existe en la lista\n",
        "        cuit = validar_cliente(input(\"Ya existe el Cuit. Intente nuevamente: \"),clientes_existentes) #Se llama al a misma función recursivamente hasta que se ingrese un cuit que no exista.\n",
        "\n",
        "    return cuit    \n",
        "        \n",
        "def CreateId(filename):\n",
        "  listid = cargar_clientes_existentes(filename)\n",
        "  if len(listid) != 0 :\n",
        "    maxId = max(cargar_clientes_existentes(filename))\n",
        "  else:\n",
        "    maxId =0\n",
        "  #now = datetime.now()\n",
        "  #id = int(now.strftime(\"%d%m%y%H%M%S\"))\n",
        "  id = int(maxId) + 1\n",
        "  return id\n",
        "\n",
        "\n",
        "def carga_cliente(filename_clientes):\n",
        "  id = CreateId(filename_clientes)\n",
        "  clientes_existentes = cargar_clientes_existentes(filename_clientes)\n",
        "  dict_clientes = {}\n",
        "  #now = datetime.now()\n",
        "  #fecha = now.strftime(\"%d%m%y%H%M%S\")\n",
        "  rsoc = input(\"Ingrese la razón social: \")\n",
        "  #cuit = input(\"Ingrese el cuit sin guiones ni puntos: \")\n",
        "  cuit = validar_cliente(input(\"cuit :\"), clientes_existentes) #Se modifica para utilizar la función validar_cliente que toma como parámetro el input de cuit de consola y diccionario de clientes existentes.\n",
        "  direccion = input(\"Ingrese su dirección: \")\n",
        "  dict_clientes[id]={'Razon_social': rsoc , 'Cuit': cuit, 'Direccion': direccion}\n",
        "  \n",
        "  for k, v in dict_clientes.items():\n",
        "    clientes_existentes[k] = v\n",
        "  return clientes_existentes\n",
        "\n",
        "def carga_cliente_main(filename_clientes):\n",
        "  while True: \n",
        "    funciones_varias = input('¿Qué quiere hacer?:\\n A: Agregar cliente /  Salir: Para salir ').title()\n",
        "    if funciones_varias == 'A':\n",
        "      dict_clientes = carga_cliente(filename_clientes)\n",
        "      guardar_clientes(dict_clientes,filename_clientes)\n",
        "\n",
        "\n",
        "    if funciones_varias == 'Salir':\n",
        "      print(\"Muchas gracias, vuelva prontos\")\n",
        "\n",
        "      break    \n",
        "\n",
        "\n"
      ],
      "metadata": {
        "id": "9psmNA_THeIb"
      },
      "execution_count": 24,
      "outputs": []
    },
    {
      "cell_type": "code",
      "source": [
        "def leer_clientes(filename):\n",
        "  data={}\n",
        "  try:\n",
        "    with open(filename, 'r') as f:\n",
        "      data = json.load(f)\n",
        "      for key, values in data.items():\n",
        "        print(f\"Cliente id: {key}\" )\n",
        "        for k in values: \n",
        "          print(k + \":\" , values[k]) \n",
        "  except IOError:\n",
        "    print(\"no existe el archivo\")\n",
        "\n",
        "\n",
        "def leer_pedidos(filename):\n",
        "  try:\n",
        "    with open(filename, 'r') as f:\n",
        "      data = json.load(f)\n",
        "      for key, values in data.items():\n",
        "        print(f\"Pedido id: {key}\" )\n",
        "        for k in values: \n",
        "          print(k + \":\" , values[k]) \n",
        "  except IOError:\n",
        "    print(\"no existe el archivo\")\n",
        "\n",
        "\n",
        "def MostrarPedidos():\n",
        "  flag = False\n",
        "  with open(filename_clientes, 'r') as f:\n",
        "    data = json.load(f)\n",
        "  listaidClientes = list(data.keys())\n",
        "  print(\"----------Lista IDs Clientes----------\") \n",
        "  for i in  listaidClientes:\n",
        "    print(i)\n",
        "\n",
        "  idcliente = input(\"Copie el idCliente deseado: \")\n",
        "  if idcliente in listaidClientes:\n",
        "    try:\n",
        "      with open(filename_pedidos, 'r') as f:\n",
        "        data2 = json.load(f)\n",
        "        for key, values in data2.items():\n",
        "            for k in values: \n",
        "              if values[k] == idcliente:\n",
        "                flag = True\n",
        "                print(f\"Pedido id: {key}\" )\n",
        "                for j in values:\n",
        "                  if values[j] != idcliente:                \n",
        "                    print(j + \":\" , values[j])\n",
        "\n",
        "      if not flag:\n",
        "        print(\"No existen pedidos para el cliente\")            \n",
        "        \n",
        "    except IOError:\n",
        "      print(\"No existe el archivo\")\n",
        "\n",
        "  else:\n",
        "    print(\"Id de cliente inexistente\")\n",
        "  \n",
        "\n"
      ],
      "metadata": {
        "id": "FvtcB2hMNfTJ"
      },
      "execution_count": 21,
      "outputs": []
    },
    {
      "cell_type": "code",
      "source": [
        "def realizar_operaciones(a):\n",
        "    while a==0 or a>5:\n",
        "        a= int(input(\"Ingrese un valor de menú válido:\"))\n",
        "    if a == 1:\n",
        "        carga_cliente_main(filename_clientes)\n",
        "    elif a == 2:\n",
        "        cargar_pedidos_main(filename_pedidos,filename_clientes)\n",
        "    elif a == 3:\n",
        "        leer_clientes(filename_clientes)\n",
        "    elif a == 4:\n",
        "        leer_pedidos(filename_pedidos)\n",
        "    else:\n",
        "        MostrarPedidos()\n",
        "\n",
        "\n",
        "#Se define path de file pedidos.json\n",
        "filename_pedidos ='/content/sample_data/pedidos.json'\n",
        "#Se define path de file clientes.json\n",
        "filename_clientes = './sample_data/clientes.json'\n",
        "\n",
        "\n",
        "operacion= int(input(\"MENU  \\n 1)Cargar Cliente \\n 2)Cargar pedido \\n 3)Ver listado clientes \\n 4)Ver listado pedidos \\n 5)Ver cliente \\n \\nElija las siguiente operacion que quiere realizar:\"))\n",
        "realizar_operaciones(operacion)\n"
      ],
      "metadata": {
        "id": "pPxDZE6yNVY-",
        "outputId": "141b5801-415f-4706-8782-2b9bdcc6a0ef",
        "colab": {
          "base_uri": "https://localhost:8080/"
        }
      },
      "execution_count": 27,
      "outputs": [
        {
          "output_type": "stream",
          "name": "stdout",
          "text": [
            "MENU  \n",
            " 1)Cargar Cliente \n",
            " 2)Cargar pedido \n",
            " 3)Ver listado clientes \n",
            " 4)Ver listado pedidos \n",
            " 5)Ver cliente \n",
            " \n",
            "Elija las siguiente operacion que quiere realizar:2\n",
            "¿Qué quiere hacer?:\n",
            " A: Agregar pedido /  Salir: Para salir A\n",
            "----------Lista IDs Clientes----------\n",
            "1\n",
            "2\n",
            "--------------------------------------\n",
            "\n",
            "Copie el idCliente deseado: 4\n",
            "Id de cliente inexistente\n",
            "¿Qué quiere hacer?:\n",
            " A: Agregar pedido /  Salir: Para salir %\n",
            "¿Qué quiere hacer?:\n",
            " A: Agregar pedido /  Salir: Para salir 2\n",
            "¿Qué quiere hacer?:\n",
            " A: Agregar pedido /  Salir: Para salir s\n",
            "¿Qué quiere hacer?:\n",
            " A: Agregar pedido /  Salir: Para salir 2\n",
            "¿Qué quiere hacer?:\n",
            " A: Agregar pedido /  Salir: Para salir A\n",
            "----------Lista IDs Clientes----------\n",
            "1\n",
            "2\n",
            "--------------------------------------\n",
            "\n",
            "Copie el idCliente deseado: f\n",
            "Id de cliente inexistente\n",
            "¿Qué quiere hacer?:\n",
            " A: Agregar pedido /  Salir: Para salir A\n",
            "----------Lista IDs Clientes----------\n",
            "1\n",
            "2\n",
            "--------------------------------------\n",
            "\n",
            "Copie el idCliente deseado: 1\n",
            "Ingrese el producto: Manzana\n",
            "Ingrese la cantidad: 23\n",
            "¿Qué quiere hacer?:\n",
            " A: Agregar pedido /  Salir: Para salir Salir\n",
            "Muchas gracias, vuelva prontos\n"
          ]
        }
      ]
    },
    {
      "cell_type": "code",
      "source": [
        "with open('/content/sample_data/pedidos.json') as f_in:\n",
        "  pedidos = json.load(f_in)"
      ],
      "metadata": {
        "id": "oANOBnAhHyu8"
      },
      "execution_count": null,
      "outputs": []
    },
    {
      "cell_type": "code",
      "source": [
        "productos = {}\n",
        "\n",
        "for x in pedidos.keys():\n",
        "  if pedidos[x]['Producto'] not in productos:\n",
        "    productos[pedidos[x]['Producto']] = int(pedidos[x]['Cantidad'])\n",
        "  else:\n",
        "    productos[pedidos[x]['Producto']] = productos[pedidos[x]['Producto']] + int(pedidos[x]['Cantidad'])"
      ],
      "metadata": {
        "id": "wZBToqTqIgTT"
      },
      "execution_count": null,
      "outputs": []
    },
    {
      "cell_type": "code",
      "source": [
        "productos"
      ],
      "metadata": {
        "id": "H_SCyAOARD0U"
      },
      "execution_count": null,
      "outputs": []
    },
    {
      "cell_type": "code",
      "source": [
        "import matplotlib.pyplot as plt\n",
        "\n",
        "prod = productos.keys()\n",
        "cant = productos.values()\n",
        "\n",
        "fig = plt.figure()\n",
        "ax = fig.add_axes([0,0,1,1])\n",
        "ax.bar(prod,cant)\n",
        "plt.show()"
      ],
      "metadata": {
        "id": "asfule7uU3UP"
      },
      "execution_count": null,
      "outputs": []
    },
    {
      "cell_type": "code",
      "source": [
        "prod = list(productos.keys())\n",
        "cant = list(productos.values())\n",
        "  \n",
        "plt.plot(prod, cant,marker=\".\")\n",
        "plt.title('Cantidad de unidades por producto')\n",
        "plt.ylabel('Cantidad del producto')\n",
        "plt.grid()\n",
        "plt.show()"
      ],
      "metadata": {
        "id": "dKRQJ8j3TsrI"
      },
      "execution_count": null,
      "outputs": []
    },
    {
      "cell_type": "code",
      "source": [
        "import pandas as pd\n",
        "df = pd.read_json(filename_clientes)"
      ],
      "metadata": {
        "id": "UbglvgGVPtXv"
      },
      "execution_count": null,
      "outputs": []
    },
    {
      "cell_type": "code",
      "source": [
        "df"
      ],
      "metadata": {
        "id": "ovb1nqnSPyle"
      },
      "execution_count": null,
      "outputs": []
    },
    {
      "cell_type": "code",
      "source": [
        "\n"
      ],
      "metadata": {
        "id": "TbSBLHYLPz0I"
      },
      "execution_count": null,
      "outputs": []
    },
    {
      "cell_type": "code",
      "source": [
        ""
      ],
      "metadata": {
        "id": "0bH9um6_dDwG"
      },
      "execution_count": null,
      "outputs": []
    }
  ]
}