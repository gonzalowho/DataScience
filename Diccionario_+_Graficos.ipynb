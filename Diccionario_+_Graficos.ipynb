{
  "nbformat": 4,
  "nbformat_minor": 0,
  "metadata": {
    "colab": {
      "name": "Diccionario + Graficos.ipynb",
      "provenance": [],
      "include_colab_link": true
    },
    "kernelspec": {
      "name": "python3",
      "display_name": "Python 3"
    },
    "language_info": {
      "name": "python"
    }
  },
  "cells": [
    {
      "cell_type": "markdown",
      "metadata": {
        "id": "view-in-github",
        "colab_type": "text"
      },
      "source": [
        "<a href=\"https://colab.research.google.com/github/gonzalowho/DataScience/blob/master/Diccionario_%2B_Graficos.ipynb\" target=\"_parent\"><img src=\"https://colab.research.google.com/assets/colab-badge.svg\" alt=\"Open In Colab\"/></a>"
      ]
    },
    {
      "cell_type": "markdown",
      "source": [
        "** Ejercitación para el Lunes 18**"
      ],
      "metadata": {
        "id": "3t431Deg7Tq1"
      }
    },
    {
      "cell_type": "code",
      "execution_count": 2,
      "metadata": {
        "id": "u3tCbr6a7Ouo"
      },
      "outputs": [],
      "source": [
        "import json\n",
        "from datetime import datetime"
      ]
    },
    {
      "cell_type": "markdown",
      "source": [
        "Crear una función que permita la carga de pedidos y los guarde en un archivo (Utilizar manejo de excepciones)"
      ],
      "metadata": {
        "id": "auR8VJF47rzz"
      }
    },
    {
      "cell_type": "code",
      "source": [
        "def cargar_pedidos_existentes(filename):\n",
        "  lista_old_pedidos={}\n",
        "  try:\n",
        "    with open(filename, 'r') as f:\n",
        "      pedidos_json = json.load(f)\n",
        "      lista_old_pedidos = pedidos_json\n",
        "  except IOError:\n",
        "    print(\"El archivo no existe. Se creara uno nuevo\")\n",
        "  return lista_old_pedidos\n",
        "\n",
        "def carga_pedidos(filename_pedidos, filename_clientes):\n",
        "  pedidos_existentes = cargar_pedidos_existentes(filename_pedidos)\n",
        "  dict_pedidos={}\n",
        "  id = CreateId(filename_pedidos)\n",
        "  with open(filename_clientes, 'r') as f:\n",
        "    data = json.load(f)\n",
        "  listaidClientes = list(data.keys())\n",
        "  print(\"----------Lista IDs Clientes----------\") \n",
        "  for i in  listaidClientes:\n",
        "     print(i)\n",
        "  print(\"--------------------------------------\\n\")\n",
        "  idcliente = input(\"Copie el idCliente deseado: \")\n",
        "  if idcliente in listaidClientes:\n",
        "    producto = input(\"Ingrese el producto: \")\n",
        "    cantidad = input(\"Ingrese la cantidad: \")\n",
        "    dict_pedidos[id]={'idCliente': idcliente , 'Producto': producto, 'Cantidad': cantidad}\n",
        "  else:\n",
        "    print(\"Id de cliente inexistente\")\n",
        "  for k, v in dict_pedidos.items():\n",
        "    pedidos_existentes[k] = v\n",
        "  #print(pedidos_existentes)\n",
        "  return pedidos_existentes\n",
        "      \n",
        "\n",
        "def cargar_pedidos_main(filename_pedidos,filename_clientes):\n",
        "  while True: \n",
        "    funciones_varias = input('¿Qué quiere hacer?:\\n A: Agregar pedido /  Salir: Para salir ').title()\n",
        "    if funciones_varias == 'A':\n",
        "      dict_pedidos = carga_pedidos(filename_pedidos,filename_clientes)\n",
        "    if funciones_varias == 'Salir':\n",
        "      print(\"Muchas gracias, vuelva prontos\")\n",
        "      break    \n",
        "\n",
        "    with open(filename_pedidos, 'w') as f:\n",
        "      json.dump(dict_pedidos, f, indent=4)      \n",
        "  return    "
      ],
      "metadata": {
        "id": "mUYfAbVl7we0"
      },
      "execution_count": 29,
      "outputs": []
    },
    {
      "cell_type": "markdown",
      "source": [
        "Crear una función que imprima por pantalla el listado de clientes."
      ],
      "metadata": {
        "id": "RV3u3CKW700l"
      }
    },
    {
      "cell_type": "code",
      "source": [
        "def leer_clientes():\n",
        "  data={}\n",
        "  try:\n",
        "    with open('/content/sample_data/clientes.json', 'r') as f:\n",
        "      data = json.load(f)\n",
        "    print(data)\n",
        "  except IOError:\n",
        "    print(\"no existe el archivo clientes\")\n",
        "  return data\n"
      ],
      "metadata": {
        "id": "8kWAf1el73y1"
      },
      "execution_count": 4,
      "outputs": []
    },
    {
      "cell_type": "code",
      "source": [
        "#Versión con validación del cuit\n",
        "\n",
        "#import json\n",
        "#from datetime import datetime\n",
        "\n",
        "\n",
        "#Función que carga clientes existentes en un diccionario y se que exista el archivo. Requiere parámetro filname con la ruta del archivo clientes.\n",
        "def cargar_clientes_existentes(filename):\n",
        "  lista_old_cli={}\n",
        "  try:\n",
        "    with open(filename, 'r') as f:\n",
        "      clientes_json = json.load(f)\n",
        "      lista_old_cli = clientes_json\n",
        "  except IOError:\n",
        "    print(\"El archivo no existe. Se creara uno nuevo\")\n",
        "  return lista_old_cli\n",
        "\n",
        "#Función que guarda los clientes el archivo. Se sobrescribe con el diccionario que contiene los clientes existentes anteriormente más el cargado en la transacción actual.\n",
        "def guardar_clientes(lista_clientes, filename):\n",
        "  with open(filename, 'w') as f:\n",
        "    json.dump(lista_clientes, f, indent=4) \n",
        "  return\n",
        "\n",
        "#Funcion que valida cuit ya existentes.\n",
        "#\n",
        "def validar_cliente(cuit, clientes_existentes):\n",
        "    cuits = [] #creo lista vacía y se agregan todos los cuits\n",
        "    for key, value in clientes_existentes.items():\n",
        "      cuits.append(value.get(\"Cuit\"))\n",
        "    if cuit in cuits: #se valida si el cuit ingreado existe en la lista\n",
        "        cuit = validar_cliente(input(\"Ya existe el Cuit. Intente nuevamente: \"),clientes_existentes) #Se llama al a misma función recursivamente hasta que se ingrese un cuit que no exista.\n",
        "\n",
        "    return cuit    \n",
        "        \n",
        "def CreateId(filename):\n",
        "  maxCliId = max(cargar_clientes_existentes(filename))\n",
        "  #now = datetime.now()\n",
        "  #id = int(now.strftime(\"%d%m%y%H%M%S\"))\n",
        "  id = int(maxCliId) + 1\n",
        "  return id\n",
        "\n",
        "\n",
        "def carga_cliente(filename_clientes):\n",
        "  id = CreateId(filename_clientes)\n",
        "  clientes_existentes = cargar_clientes_existentes(filename_clientes)\n",
        "  dict_clientes = {}\n",
        "  #now = datetime.now()\n",
        "  #fecha = now.strftime(\"%d%m%y%H%M%S\")\n",
        "  rsoc = input(\"Ingrese la razón social: \")\n",
        "  #cuit = input(\"Ingrese el cuit sin guiones ni puntos: \")\n",
        "  cuit = validar_cliente(input(\"cuit :\"), clientes_existentes) #Se modifica para utilizar la función validar_cliente que toma como parámetro el input de cuit de consola y diccionario de clientes existentes.\n",
        "  direccion = input(\"Ingrese su dirección: \")\n",
        "  dict_clientes[id]={'Razon_social': rsoc , 'Cuit': cuit, 'Direccion': direccion}\n",
        "  \n",
        "  for k, v in dict_clientes.items():\n",
        "    clientes_existentes[k] = v\n",
        "  return clientes_existentes\n",
        "\n",
        "def carga_cliente_main(filename_clientes):\n",
        "  while True: \n",
        "    funciones_varias = input('¿Qué quiere hacer?:\\n A: Agregar cliente /  Salir: Para salir ').title()\n",
        "    if funciones_varias == 'A':\n",
        "      dict_clientes = carga_cliente(filename_clientes)\n",
        "      guardar_clientes(dict_clientes,filename_clientes)\n",
        "\n",
        "\n",
        "    if funciones_varias == 'Salir':\n",
        "      print(\"Muchas gracias, vuelva prontos\")\n",
        "\n",
        "      break    \n",
        "\n",
        "\n"
      ],
      "metadata": {
        "id": "9psmNA_THeIb"
      },
      "execution_count": 30,
      "outputs": []
    },
    {
      "cell_type": "code",
      "source": [
        "def leer_clientes(filename):\n",
        "  data={}\n",
        "  try:\n",
        "    with open(filename, 'r') as f:\n",
        "      data = json.load(f)\n",
        "      for key, values in data.items():\n",
        "        print(f\"Cliente id: {key}\" )\n",
        "        for k in values: \n",
        "          print(k + \":\" , values[k]) \n",
        "  except IOError:\n",
        "    print(\"no existe el archivo\")\n",
        "\n",
        "\n",
        "def leer_pedidos(filename):\n",
        "  try:\n",
        "    with open(filename, 'r') as f:\n",
        "      data = json.load(f)\n",
        "      for key, values in data.items():\n",
        "        print(f\"Pedido id: {key}\" )\n",
        "        for k in values: \n",
        "          print(k + \":\" , values[k]) \n",
        "  except IOError:\n",
        "    print(\"no existe el archivo\")\n",
        "\n",
        "\n",
        "def MostrarPedidos():\n",
        "  flag = False\n",
        "  with open(filename_clientes, 'r') as f:\n",
        "    data = json.load(f)\n",
        "  listaidClientes = list(data.keys())\n",
        "  print(\"----------Lista IDs Clientes----------\") \n",
        "  for i in  listaidClientes:\n",
        "    print(i)\n",
        "\n",
        "  idcliente = input(\"Copie el idCliente deseado: \")\n",
        "  if idcliente in listaidClientes:\n",
        "    try:\n",
        "      with open(filename_pedidos, 'r') as f:\n",
        "        data2 = json.load(f)\n",
        "        for key, values in data2.items():\n",
        "            for k in values: \n",
        "              if values[k] == idcliente:\n",
        "                flag = True\n",
        "                print(f\"Pedido id: {key}\" )\n",
        "                for j in values:\n",
        "                  if values[j] != idcliente:                \n",
        "                    print(j + \":\" , values[j])\n",
        "\n",
        "      if not flag:\n",
        "        print(\"No existen pedidos para el cliente\")            \n",
        "        \n",
        "    except IOError:\n",
        "      print(\"No existe el archivo\")\n",
        "\n",
        "  else:\n",
        "    print(\"Id de cliente inexistente\")\n",
        "  \n",
        "\n"
      ],
      "metadata": {
        "id": "FvtcB2hMNfTJ"
      },
      "execution_count": 6,
      "outputs": []
    },
    {
      "cell_type": "code",
      "source": [
        "def realizar_operaciones(a):\n",
        "    while a==0 or a>5:\n",
        "        a= int(input(\"Ingrese un valor de menú válido:\"))\n",
        "    if a == 1:\n",
        "        carga_cliente_main(filename_clientes)\n",
        "    elif a == 2:\n",
        "        cargar_pedidos_main(filename_pedidos,filename_clientes)\n",
        "    elif a == 3:\n",
        "        leer_clientes(filename_clientes)\n",
        "    elif a == 4:\n",
        "        leer_pedidos(filename_pedidos)\n",
        "    else:\n",
        "        MostrarPedidos()\n",
        "\n",
        "\n",
        "#Se define path de file pedidos.json\n",
        "filename_pedidos ='/content/sample_data/pedidos.json'\n",
        "#Se define path de file clientes.json\n",
        "filename_clientes = './sample_data/clientes.json'\n",
        "\n",
        "\n",
        "operacion= int(input(\"MENU  \\n 1)Cargar Cliente \\n 2)Cargar pedido \\n 3)Ver listado clientes \\n 4)Ver listado pedidos \\n 5)Ver cliente \\n \\nElija las siguiente operacion que quiere realizar:\"))\n",
        "realizar_operaciones(operacion)\n"
      ],
      "metadata": {
        "id": "pPxDZE6yNVY-",
        "outputId": "cba7e8b2-6db5-44ee-ed1c-cbf38b2fa02b",
        "colab": {
          "base_uri": "https://localhost:8080/"
        }
      },
      "execution_count": 39,
      "outputs": [
        {
          "output_type": "stream",
          "name": "stdout",
          "text": [
            "MENU  \n",
            " 1)Cargar Cliente \n",
            " 2)Cargar pedido \n",
            " 3)Ver listado clientes \n",
            " 4)Ver listado pedidos \n",
            " 5)Ver cliente \n",
            " \n",
            "Elija las siguiente operacion que quiere realizar:5\n",
            "----------Lista IDs Clientes----------\n",
            "26042\n",
            "26043\n",
            "Copie el idCliente deseado: 26043\n",
            "No existe el archivo\n"
          ]
        }
      ]
    },
    {
      "cell_type": "code",
      "source": [
        "with open('/content/sample_data/pedidos.json') as f_in:\n",
        "  pedidos = json.load(f_in)"
      ],
      "metadata": {
        "id": "oANOBnAhHyu8"
      },
      "execution_count": 18,
      "outputs": []
    },
    {
      "cell_type": "code",
      "source": [
        "productos = {}\n",
        "\n",
        "for x in pedidos.keys():\n",
        "  if pedidos[x]['Producto'] not in productos:\n",
        "    productos[pedidos[x]['Producto']] = int(pedidos[x]['Cantidad'])\n",
        "  else:\n",
        "    productos[pedidos[x]['Producto']] = productos[pedidos[x]['Producto']] + int(pedidos[x]['Cantidad'])"
      ],
      "metadata": {
        "id": "wZBToqTqIgTT"
      },
      "execution_count": 19,
      "outputs": []
    },
    {
      "cell_type": "code",
      "source": [
        "productos"
      ],
      "metadata": {
        "colab": {
          "base_uri": "https://localhost:8080/"
        },
        "id": "H_SCyAOARD0U",
        "outputId": "f50e437b-66fd-4ed2-97ce-02457b9efb5e"
      },
      "execution_count": 20,
      "outputs": [
        {
          "output_type": "execute_result",
          "data": {
            "text/plain": [
              "{'Banana': 3, 'Pera': 4, 'manzana': 2}"
            ]
          },
          "metadata": {},
          "execution_count": 20
        }
      ]
    },
    {
      "cell_type": "code",
      "source": [
        "import matplotlib.pyplot as plt\n",
        "\n",
        "prod = productos.keys()\n",
        "cant = productos.values()\n",
        "\n",
        "fig = plt.figure()\n",
        "ax = fig.add_axes([0,0,1,1])\n",
        "ax.bar(prod,cant)\n",
        "plt.show()"
      ],
      "metadata": {
        "id": "asfule7uU3UP",
        "colab": {
          "base_uri": "https://localhost:8080/",
          "height": 336
        },
        "outputId": "bbe785fa-c8e4-44b1-e961-cf0558a8540d"
      },
      "execution_count": 21,
      "outputs": [
        {
          "output_type": "display_data",
          "data": {
            "text/plain": [
              "<Figure size 432x288 with 1 Axes>"
            ],
            "image/png": "[encoded data removed]"
          },
          "metadata": {
            "needs_background": "light"
          }
        }
      ]
    },
    {
      "cell_type": "code",
      "source": [
        "prod = list(productos.keys())\n",
        "cant = list(productos.values())\n",
        "  \n",
        "plt.plot(prod, cant,marker=\".\")\n",
        "plt.title('Cantidad de unidades por producto')\n",
        "plt.ylabel('Cantidad del producto')\n",
        "plt.grid()\n",
        "plt.show()"
      ],
      "metadata": {
        "colab": {
          "base_uri": "https://localhost:8080/",
          "height": 281
        },
        "id": "dKRQJ8j3TsrI",
        "outputId": "80b13858-db86-47d7-b1ac-90da4566b95f"
      },
      "execution_count": 22,
      "outputs": [
        {
          "output_type": "display_data",
          "data": {
            "text/plain": [
              "<Figure size 432x288 with 1 Axes>"
            ],
            "image/png": "[encoded data removed]"
          },
          "metadata": {
            "needs_background": "light"
          }
        }
      ]
    },
    {
      "cell_type": "code",
      "source": [
        "import pandas as pd\n",
        "df = pd.read_json(filename_clientes)"
      ],
      "metadata": {
        "id": "UbglvgGVPtXv"
      },
      "execution_count": 27,
      "outputs": []
    },
    {
      "cell_type": "code",
      "source": [
        "df"
      ],
      "metadata": {
        "colab": {
          "base_uri": "https://localhost:8080/",
          "height": 143
        },
        "id": "ovb1nqnSPyle",
        "outputId": "63bbce3b-7ee9-4fcc-c551-fec19cfdf638"
      },
      "execution_count": 40,
      "outputs": [
        {
          "output_type": "execute_result",
          "data": {
            "text/plain": [
              "               26042   26043\n",
              "Razon_social   Test1   test2\n",
              "Cuit             111      11\n",
              "Direccion     Chile1  Chile2"
            ],
            "text/html": [
              "\n",
              "  <div id=\"df-f0a187fe-3da6-4bc5-b316-054c76755dfe\">\n",
              "    <div class=\"colab-df-container\">\n",
              "      <div>\n",
              "<style scoped>\n",
              "    .dataframe tbody tr th:only-of-type {\n",
              "        vertical-align: middle;\n",
              "    }\n",
              "\n",
              "    .dataframe tbody tr th {\n",
              "        vertical-align: top;\n",
              "    }\n",
              "\n",
              "    .dataframe thead th {\n",
              "        text-align: right;\n",
              "    }\n",
              "</style>\n",
              "<table border=\"1\" class=\"dataframe\">\n",
              "  <thead>\n",
              "    <tr style=\"text-align: right;\">\n",
              "      <th></th>\n",
              "      <th>26042</th>\n",
              "      <th>26043</th>\n",
              "    </tr>\n",
              "  </thead>\n",
              "  <tbody>\n",
              "    <tr>\n",
              "      <th>Razon_social</th>\n",
              "      <td>Test1</td>\n",
              "      <td>test2</td>\n",
              "    </tr>\n",
              "    <tr>\n",
              "      <th>Cuit</th>\n",
              "      <td>111</td>\n",
              "      <td>11</td>\n",
              "    </tr>\n",
              "    <tr>\n",
              "      <th>Direccion</th>\n",
              "      <td>Chile1</td>\n",
              "      <td>Chile2</td>\n",
              "    </tr>\n",
              "  </tbody>\n",
              "</table>\n",
              "</div>\n",
              "      <button class=\"colab-df-convert\" onclick=\"convertToInteractive('df-f0a187fe-3da6-4bc5-b316-054c76755dfe')\"\n",
              "              title=\"Convert this dataframe to an interactive table.\"\n",
              "              style=\"display:none;\">\n",
              "        \n",
              "  <svg xmlns=\"http://www.w3.org/2000/svg\" height=\"24px\"viewBox=\"0 0 24 24\"\n",
              "       width=\"24px\">\n",
              "    <path d=\"M0 0h24v24H0V0z\" fill=\"none\"/>\n",
              "    <path d=\"M18.56 5.44l.94 2.06.94-2.06 2.06-.94-2.06-.94-.94-2.06-.94 2.06-2.06.94zm-11 1L8.5 8.5l.94-2.06 2.06-.94-2.06-.94L8.5 2.5l-.94 2.06-2.06.94zm10 10l.94 2.06.94-2.06 2.06-.94-2.06-.94-.94-2.06-.94 2.06-2.06.94z\"/><path d=\"M17.41 7.96l-1.37-1.37c-.4-.4-.92-.59-1.43-.59-.52 0-1.04.2-1.43.59L10.3 9.45l-7.72 7.72c-.78.78-.78 2.05 0 2.83L4 21.41c.39.39.9.59 1.41.59.51 0 1.02-.2 1.41-.59l7.78-7.78 2.81-2.81c.8-.78.8-2.07 0-2.86zM5.41 20L4 18.59l7.72-7.72 1.47 1.35L5.41 20z\"/>\n",
              "  </svg>\n",
              "      </button>\n",
              "      \n",
              "  <style>\n",
              "    .colab-df-container {\n",
              "      display:flex;\n",
              "      flex-wrap:wrap;\n",
              "      gap: 12px;\n",
              "    }\n",
              "\n",
              "    .colab-df-convert {\n",
              "      background-color: #E8F0FE;\n",
              "      border: none;\n",
              "      border-radius: 50%;\n",
              "      cursor: pointer;\n",
              "      display: none;\n",
              "      fill: #1967D2;\n",
              "      height: 32px;\n",
              "      padding: 0 0 0 0;\n",
              "      width: 32px;\n",
              "    }\n",
              "\n",
              "    .colab-df-convert:hover {\n",
              "      background-color: #E2EBFA;\n",
              "      box-shadow: 0px 1px 2px rgba(60, 64, 67, 0.3), 0px 1px 3px 1px rgba(60, 64, 67, 0.15);\n",
              "      fill: #174EA6;\n",
              "    }\n",
              "\n",
              "    [theme=dark] .colab-df-convert {\n",
              "      background-color: #3B4455;\n",
              "      fill: #D2E3FC;\n",
              "    }\n",
              "\n",
              "    [theme=dark] .colab-df-convert:hover {\n",
              "      background-color: #434B5C;\n",
              "      box-shadow: 0px 1px 3px 1px rgba(0, 0, 0, 0.15);\n",
              "      filter: drop-shadow(0px 1px 2px rgba(0, 0, 0, 0.3));\n",
              "      fill: #FFFFFF;\n",
              "    }\n",
              "  </style>\n",
              "\n",
              "      <script>\n",
              "        const buttonEl =\n",
              "          document.querySelector('#df-f0a187fe-3da6-4bc5-b316-054c76755dfe button.colab-df-convert');\n",
              "        buttonEl.style.display =\n",
              "          google.colab.kernel.accessAllowed ? 'block' : 'none';\n",
              "\n",
              "        async function convertToInteractive(key) {\n",
              "          const element = document.querySelector('#df-f0a187fe-3da6-4bc5-b316-054c76755dfe');\n",
              "          const dataTable =\n",
              "            await google.colab.kernel.invokeFunction('convertToInteractive',\n",
              "                                                     [key], {});\n",
              "          if (!dataTable) return;\n",
              "\n",
              "          const docLinkHtml = 'Like what you see? Visit the ' +\n",
              "            '<a target=\"_blank\" href=https://colab.research.google.com/notebooks/data_table.ipynb>data table notebook</a>'\n",
              "            + ' to learn more about interactive tables.';\n",
              "          element.innerHTML = '';\n",
              "          dataTable['output_type'] = 'display_data';\n",
              "          await google.colab.output.renderOutput(dataTable, element);\n",
              "          const docLink = document.createElement('div');\n",
              "          docLink.innerHTML = docLinkHtml;\n",
              "          element.appendChild(docLink);\n",
              "        }\n",
              "      </script>\n",
              "    </div>\n",
              "  </div>\n",
              "  "
            ]
          },
          "metadata": {},
          "execution_count": 40
        }
      ]
    },
    {
      "cell_type": "code",
      "source": [
        "\n"
      ],
      "metadata": {
        "colab": {
          "base_uri": "https://localhost:8080/"
        },
        "id": "TbSBLHYLPz0I",
        "outputId": "1f6e12fb-453f-442b-9b7d-88146e5b14b7"
      },
      "execution_count": 38,
      "outputs": [
        {
          "output_type": "stream",
          "name": "stdout",
          "text": [
            "El archivo no existe. Se creara uno nuevo\n"
          ]
        }
      ]
    },
    {
      "cell_type": "code",
      "source": [
        ""
      ],
      "metadata": {
        "id": "0bH9um6_dDwG"
      },
      "execution_count": null,
      "outputs": []
    }
  ]
}