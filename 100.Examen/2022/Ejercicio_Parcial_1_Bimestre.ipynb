{
  "nbformat": 4,
  "nbformat_minor": 0,
  "metadata": {
    "colab": {
      "name": "Ejercicio_Parcial_1_Bimestre.ipynb",
      "provenance": [],
      "include_colab_link": true
    },
    "kernelspec": {
      "name": "python3",
      "display_name": "Python 3"
    },
    "language_info": {
      "name": "python"
    }
  },
  "cells": [
    {
      "cell_type": "markdown",
      "metadata": {
        "id": "view-in-github",
        "colab_type": "text"
      },
      "source": [
        "<a href=\"https://colab.research.google.com/github/gonzalowho/DataScience/blob/master/100.Examen/2022/Ejercicio_Parcial_1_Bimestre.ipynb\" target=\"_parent\"><img src=\"https://colab.research.google.com/assets/colab-badge.svg\" alt=\"Open In Colab\"/></a>"
      ]
    },
    {
      "cell_type": "markdown",
      "metadata": {
        "id": "0ZBHM9KbFmxq"
      },
      "source": [
        "# Ejercicio Tipo Parcial\n",
        "\n",
        "El ministerio de salud de la nación les solicita realizar un programa que les permita visualizar el estado de ciudadanos infectados con COVID-19 en todas sus variantes en un rango de fecha determinado y comparar esos resultados con los niveles de vacunación.\n",
        "A su vez, se les solicita que realicen una compración con otro(s) país(es). (Seleccionar como máximo 2 adicionales)\n",
        "\n",
        "Para ello, un analista le provee los siguientes archivos.\n",
        "\n",
        "[Vacunación Global](https://raw.githubusercontent.com/al34n1x/DataScience/master/100.Examen/2022/country_vaccinations.csv)\n",
        "\n",
        "[Casos COVID Global](https://raw.githubusercontent.com/al34n1x/DataScience/master/100.Examen/2022/owid-covid-data.csv)\n",
        "\n",
        "\n",
        "Consideraciones:\n",
        "\n",
        "* Rango de Fechas desde 01/01/2021 a 15/01/2021\n",
        "* Importar los archivos y trabajarlos como diccionarios o dataframes. El caracter delimitador de los archivos es el **';'**\n",
        "* Realizar al menos 4 charts que representen la información solicitada\n",
        "* Utilizar funciones\n",
        "* Generar un archivo que posea la siguiente estructura de datos dscriminado por el rango de fechas.\n",
        "```\n",
        "ID:{\n",
        "'país':value,\n",
        "'fecha':value,\n",
        "'nuevos_casos':value,\n",
        "'nuevas_muertes':value,\n",
        "'total_vacunados':value\n",
        "}\n",
        "```\n",
        "* Documentar cada paso con bloques de texto adicionalmente a notas en el código\n",
        "* Presentar por pantalla el total acumulado de infectados y de vacunados en el rango de fechas solicitado\n",
        "* Proveer una breve conclusión como parte del análisis \n",
        "\n",
        "\n",
        "\n"
      ]
    },
    {
      "cell_type": "markdown",
      "metadata": {
        "id": "1rYMsEfVFvPn"
      },
      "source": [
        "## TIPS"
      ]
    },
    {
      "cell_type": "code",
      "metadata": {
        "id": "aTZkn_AvFld9"
      },
      "source": [
        "import csv\n",
        "file = ('./sample_data/country_vaccinations.csv')\n",
        "covid_vaccines={}\n",
        "\n",
        "with open(file, mode='r') as csv_file:\n",
        "    csv_reader = csv.DictReader(csv_file,delimiter=';') #Delimitador ;\n",
        "    line_count = 0\n",
        "    for row in csv_reader:\n",
        "      print(row)"
      ],
      "execution_count": null,
      "outputs": []
    },
    {
      "cell_type": "code",
      "metadata": {
        "id": "D2p6WrXIFsHi"
      },
      "source": [
        "import csv\n",
        "file = ('./sample_data/owid-covid-data.csv')\n",
        "covid_cases={}\n",
        "\n",
        "with open(file, mode='r') as csv_file:\n",
        "    csv_reader = csv.DictReader(csv_file,delimiter=';')\n",
        "    line_count = 0\n",
        "    for row in csv_reader:\n",
        "      print(row)"
      ],
      "execution_count": null,
      "outputs": []
    },
    {
      "cell_type": "code",
      "metadata": {
        "id": "bg6-mLepFtzy"
      },
      "source": [
        "var = '1.0'\n",
        "\n",
        "split = var.split('.')[0] # Dividir cadena de caracteres para eliminar los caracteres detras del .\n",
        "\n",
        "print(var)\n",
        "print(int(split))"
      ],
      "execution_count": null,
      "outputs": []
    },
    {
      "cell_type": "markdown",
      "source": [
        "---\n"
      ],
      "metadata": {
        "id": "3ti1yO9zlVpI"
      }
    },
    {
      "cell_type": "markdown",
      "source": [
        "## Carga de datos"
      ],
      "metadata": {
        "id": "aQneOoJ_krvJ"
      }
    },
    {
      "cell_type": "code",
      "source": [
        "\n",
        "\n",
        "\n",
        "\n",
        "\n",
        "# Ingrese código aquí\n",
        "import pandas as pd\n",
        "from datetime import datetime\n",
        "from matplotlib.dates import date2num\n",
        "\n",
        "df = pd.read_csv('https://raw.githubusercontent.com/al34n1x/DataScience/master/100.Examen/2022/country_vaccinations.csv',sep=';')\n",
        "df1 = pd.read_csv('https://raw.githubusercontent.com/al34n1x/DataScience/master/100.Examen/2022/owid-covid-data.csv')\n",
        "\n",
        "#df3 = df[(df['date'] >= '01/01/2021') & (df['date'] <= '15/01/2021')]\n",
        "\n",
        "\n",
        "\n",
        "\n",
        "#arg_df = filtered_df[filtered_df['iso_code']==('ARG')]\n",
        "#usa_df = filtered_df[filtered_df['iso_code']==('BRA')]\n",
        "#chn_df = filtered_df[filtered_df['iso_code']==('CHN')]\n",
        "\n",
        "\n",
        "\n"
      ],
      "metadata": {
        "id": "_J96onT_lCw9"
      },
      "execution_count": 18,
      "outputs": []
    },
    {
      "cell_type": "markdown",
      "source": [
        "## Limpieza de datos"
      ],
      "metadata": {
        "id": "SzAIToQjktGr"
      }
    },
    {
      "cell_type": "code",
      "source": [
        "df['date'] = pd.to_datetime(df['date'], format='%d/%m/%Y')\n",
        "df3 = df[(df['date'] >= '01/01/2021') & (df['date'] <= '15/01/2021')]\n",
        "\n",
        "df2 = df1[(df1['date'] >= '2021-01-01') & (df1['date'] <= '2021-01-15')]"
      ],
      "metadata": {
        "id": "wUV9xn9LlEIU"
      },
      "execution_count": 3,
      "outputs": []
    },
    {
      "cell_type": "code",
      "source": [
        "# Ingrese código aquí"
      ],
      "metadata": {
        "id": "fbRtOmINlD5c"
      },
      "execution_count": null,
      "outputs": []
    },
    {
      "cell_type": "code",
      "source": [
        "# Ingrese código aquí"
      ],
      "metadata": {
        "id": "6z-nbh5TlDX9"
      },
      "execution_count": null,
      "outputs": []
    },
    {
      "cell_type": "markdown",
      "source": [
        "## Transformación de datos"
      ],
      "metadata": {
        "id": "2_BcGv-BkyAS"
      }
    },
    {
      "cell_type": "code",
      "source": [
        "country_list = ['ITA','ARG','CHN']\n",
        "\n",
        "\n",
        "df4 = df2[df2['iso_code'].isin(country_list)]\n",
        "df5 = df3[df3['iso_code'].isin(country_list)]\n",
        "filtered_df = df4[[\"iso_code\",\"location\",\"total_cases\",\"new_cases\",\"new_deaths\",\"date\", \"total_vaccinations\"]]\n",
        "\n",
        "lista_dates = filtered_df[\"date\"].unique()\n",
        "\n",
        "def df_pais (df, pais, campo):\n",
        "  df1 = df[df['iso_code']==(pais)]\n",
        "  cases = df1[campo].tolist()\n",
        "  return cases, df1\n",
        "\n",
        "arg_cases, arg_df = df_pais(filtered_df, 'ARG','new_cases')\n",
        "bra_cases, bra_df = df_pais(filtered_df, 'ITA','new_cases')\n",
        "chn_cases, chn_df = df_pais(filtered_df, 'CHN','new_cases')\n",
        "\n",
        "arg_vac, arg_vac_df = df_pais(df3, 'ARG','daily_vaccinations' )\n",
        "bra_vac , bra_vac_df= df_pais(df3, 'ITA','daily_vaccinations' )\n",
        "chn_vac , chn_vac_df= df_pais(df3, 'CHN','daily_vaccinations' )\n"
      ],
      "metadata": {
        "id": "PUXmMsRtlFm4"
      },
      "execution_count": 4,
      "outputs": []
    },
    {
      "cell_type": "markdown",
      "source": [
        "## Análisis y Visualizaciones\n",
        "\n",
        "*Ingrese su análisis aquí*\n"
      ],
      "metadata": {
        "id": "7hb5S74tk1rr"
      }
    },
    {
      "cell_type": "code",
      "source": [
        ""
      ],
      "metadata": {
        "colab": {
          "base_uri": "https://localhost:8080/"
        },
        "id": "8nKykamwaxk1",
        "outputId": "adb5997c-cac7-4938-a23c-43676052512d"
      },
      "execution_count": 24,
      "outputs": [
        {
          "output_type": "execute_result",
          "data": {
            "text/plain": [
              "array([737791., 737792., 737793., 737794., 737795., 737796., 737797.,\n",
              "       737798., 737799., 737800., 737801., 737802., 737803., 737804.,\n",
              "       737805.])"
            ]
          },
          "metadata": {},
          "execution_count": 24
        }
      ]
    },
    {
      "cell_type": "code",
      "source": [
        "import matplotlib.pyplot as plt\n",
        "from datetime import datetime\n",
        "from matplotlib.dates import date2num\n",
        "\n",
        "plt.figure()\n",
        "arg_df.plot(kind='bar',x='date',y='new_cases',color='blue')\n",
        "bra_df.plot(kind='bar',x='date',y='new_cases',color='red')\n",
        "chn_df.plot(kind='bar',x='date',y='new_cases',color='green')\n",
        "plt.xlabel('variable')\n",
        "plt.ylabel('value')\n",
        "\n",
        "plt.show()\n",
        "\n",
        "\n",
        "\n",
        "\n",
        "x=[]\n",
        "for i in lista_dates:\n",
        "  x.append(datetime.strptime(i,'%Y-%m-%d'))\n",
        "x = date2num(x)\n",
        "\n",
        "ax = plt.subplot(111)\n",
        "ax.bar(x-0.2, dic[\"ita\"], width=0.4, color='b', align='center')\n",
        "ax.bar(x, dic[\"arg\"], width=0.4, color='g', align='center')\n",
        "ax.bar(x+0.2, dic[\"chn\"], width=0.4, color='r', align='center')\n",
        "ax.xaxis_date()\n",
        "plt.xticks(rotation=90)\n",
        "plt.show()"
      ],
      "metadata": {
        "colab": {
          "base_uri": "https://localhost:8080/",
          "height": 1000
        },
        "id": "MagYmZZEGMMh",
        "outputId": "0bbd4008-8dd9-4345-9159-8306cc142bcb"
      },
      "execution_count": 39,
      "outputs": [
        {
          "output_type": "display_data",
          "data": {
            "text/plain": [
              "<Figure size 432x288 with 0 Axes>"
            ]
          },
          "metadata": {}
        },
        {
          "output_type": "display_data",
          "data": {
            "text/plain": [
              "<Figure size 432x288 with 1 Axes>"
            ],
            "image/png": "[encoded data removed]"
          },
          "metadata": {
            "needs_background": "light"
          }
        },
        {
          "output_type": "display_data",
          "data": {
            "text/plain": [
              "<Figure size 432x288 with 1 Axes>"
            ],
            "image/png": "[encoded data removed]"
          },
          "metadata": {
            "needs_background": "light"
          }
        },
        {
          "output_type": "display_data",
          "data": {
            "text/plain": [
              "<Figure size 432x288 with 1 Axes>"
            ],
            "image/png": "[encoded data removed]"
          },
          "metadata": {
            "needs_background": "light"
          }
        },
        {
          "output_type": "display_data",
          "data": {
            "text/plain": [
              "<Figure size 432x288 with 1 Axes>"
            ],
            "image/png": "[encoded data removed]"
          },
          "metadata": {
            "needs_background": "light"
          }
        }
      ]
    },
    {
      "cell_type": "code",
      "source": [
        "# Ingrese#arg_df = filtered_df[filtered_df['iso_code']==('ARG')]\n",
        "#usa_df = filtered_df[filtered_df['iso_code']==('ITA')]\n",
        "#chn_df = filtered_df[filtered_df['iso_code']==('CHN')]\n",
        "#df4 = filtered_df[filtered_df['iso_code'].isin(country_list)]\n",
        "#arg_cases = arg_df[\"new_cases\"].tolist()\n",
        "##bra_cases = usa_df[\"new_cases\"].tolist()\n",
        "#chn_cases = chn_df[\"new_cases\"].tolist()\n",
        "lista_dates = arg_df[\"date\"].tolist()\n",
        "#ist_of_single_column = df['DOB'].tolist()\n",
        "\n",
        "\n",
        "dic={\"ita\":bra_cases, \"arg\":arg_cases, \"chn\":chn_cases }\n",
        "dic\n",
        "\n",
        "import matplotlib.pyplot as plt\n",
        "fig = plt.figure()\n",
        "ax = fig.subplots()\n",
        "ax.plot(lista_dates, dic[\"ita\"], marker = '^')\n",
        "ax.plot(lista_dates, dic[\"arg\"], marker = 'o')\n",
        "ax.plot(lista_dates, dic[\"chn\"], marker = '+')\n",
        "plt.xticks(rotation=90)\n",
        "plt.show()"
      ],
      "metadata": {
        "id": "JY1QPSUUlHDX",
        "colab": {
          "base_uri": "https://localhost:8080/",
          "height": 313
        },
        "outputId": "2e6111e5-23b3-440f-a797-a7c3c2a7f313"
      },
      "execution_count": 26,
      "outputs": [
        {
          "output_type": "display_data",
          "data": {
            "text/plain": [
              "<Figure size 432x288 with 1 Axes>"
            ],
            "image/png": "[encoded data removed]"
          },
          "metadata": {
            "needs_background": "light"
          }
        }
      ]
    },
    {
      "cell_type": "code",
      "source": [
        "#arg_vac, arg_vac_df = df_pais(df3, 'ARG','daily_vaccinations' )\n",
        "#bra_vac , bra_vac_df= df_pais(df3, 'BRA','daily_vaccinations' )\n",
        "#chn_vac , chn_vac_df= df_pais(df3, 'CHN','daily_vaccinations' )\n",
        "\n",
        "dic={\"ita\":bra_vac, \"arg\":arg_vac, \"chn\":chn_vac }\n",
        "dic\n",
        "\n",
        "fig = plt.figure()\n",
        "ax = fig.subplots()\n",
        "ax.plot(lista_dates, dic[\"ita\"], marker = '^')\n",
        "ax.plot(lista_dates, dic[\"arg\"], marker = 'o')\n",
        "ax.plot(lista_dates, dic[\"chn\"], marker = '+')\n",
        "plt.xticks(rotation=90)\n",
        "plt.show()"
      ],
      "metadata": {
        "id": "2SToxURjlG3Y",
        "colab": {
          "base_uri": "https://localhost:8080/",
          "height": 313
        },
        "outputId": "efc0b353-7a07-4dbc-93b9-778033eb0177"
      },
      "execution_count": 58,
      "outputs": [
        {
          "output_type": "display_data",
          "data": {
            "text/plain": [
              "<Figure size 432x288 with 1 Axes>"
            ],
            "image/png": "[encoded data removed]"
          },
          "metadata": {
            "needs_background": "light"
          }
        }
      ]
    },
    {
      "cell_type": "code",
      "source": [
        "# Ingrese código aquí"
      ],
      "metadata": {
        "id": "reVnqsCXlGpt"
      },
      "execution_count": null,
      "outputs": []
    },
    {
      "cell_type": "markdown",
      "source": [
        "## Conclusión\n",
        "\n",
        "*Ingrese conclusión aquí*"
      ],
      "metadata": {
        "id": "SDoG7Ol5k5JN"
      }
    },
    {
      "cell_type": "code",
      "source": [
        "# Ingrese código aquí"
      ],
      "metadata": {
        "id": "JS2X5GQnlIYb"
      },
      "execution_count": null,
      "outputs": []
    },
    {
      "cell_type": "markdown",
      "source": [
        "## Almacenamiento de resultados"
      ],
      "metadata": {
        "id": "N7_qJtlek90u"
      }
    },
    {
      "cell_type": "code",
      "source": [
        "filtered_df.to_json('./sample_data/resultado.json', orient = 'records')"
      ],
      "metadata": {
        "id": "vEwQheo0lJJf"
      },
      "execution_count": 8,
      "outputs": []
    },
    {
      "cell_type": "code",
      "source": [
        ""
      ],
      "metadata": {
        "id": "_VCqWWwHDIxb"
      },
      "execution_count": null,
      "outputs": []
    }
  ]
}